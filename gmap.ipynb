{
  "cells": [
    {
      "cell_type": "markdown",
      "metadata": {
        "id": "view-in-github",
        "colab_type": "text"
      },
      "source": [
        "<a href=\"https://colab.research.google.com/github/Ellakiya15/dijikstra-algo/blob/main/gmap.ipynb\" target=\"_parent\"><img src=\"https://colab.research.google.com/assets/colab-badge.svg\" alt=\"Open In Colab\"/></a>"
      ]
    },
    {
      "cell_type": "code",
      "execution_count": 1,
      "metadata": {
        "id": "I7NawBcrNO8V"
      },
      "outputs": [],
      "source": [
        "import pandas as pd\n",
        "import networkx as nx\n",
        "import folium\n",
        "from heapq import heappop, heappush\n",
        "from geopy.distance import geodesic\n",
        "df = pd.read_csv('dataset.csv')"
      ]
    },
    {
      "cell_type": "code",
      "execution_count": 2,
      "metadata": {
        "id": "9W9BXtjPNO8Z"
      },
      "outputs": [],
      "source": [
        "#A*\n",
        "def haversine(coord1, coord2):\n",
        "    return geodesic(coord1, coord2).km\n",
        "\n",
        "def a_star(graph, start, goal):\n",
        "    open_set = []\n",
        "    heappush(open_set, (0, start))\n",
        "\n",
        "    g_costs = {start: 0}\n",
        "    f_costs = {start: haversine(graph.nodes[start]['pos'], graph.nodes[goal]['pos'])}\n",
        "    came_from = {}\n",
        "\n",
        "    while open_set:\n",
        "        current_f_cost, current = heappop(open_set)\n",
        "\n",
        "        if current == goal:\n",
        "            path = []\n",
        "            while current in came_from:\n",
        "                path.append(current)\n",
        "                current = came_from[current]\n",
        "            path.append(start)\n",
        "            path.reverse()\n",
        "            return path\n",
        "\n",
        "        for neighbor in graph.neighbors(current):\n",
        "            tentative_g_cost = g_costs[current] + haversine(graph.nodes[current]['pos'], graph.nodes[neighbor]['pos'])\n",
        "\n",
        "            if neighbor not in g_costs or tentative_g_cost < g_costs[neighbor]:\n",
        "                came_from[neighbor] = current\n",
        "                g_costs[neighbor] = tentative_g_cost\n",
        "                f_costs[neighbor] = tentative_g_cost + haversine(graph.nodes[neighbor]['pos'], graph.nodes[goal]['pos'])\n",
        "                heappush(open_set, (f_costs[neighbor], neighbor))\n",
        "    return None\n"
      ]
    },
    {
      "cell_type": "code",
      "execution_count": 3,
      "metadata": {
        "id": "iUmaKkVGNO8b"
      },
      "outputs": [],
      "source": [
        "G = nx.Graph()\n",
        "for _, row in df.iterrows():\n",
        "    G.add_node(row['Postcode'], pos=(row['Latitude'], row['Longitude']))\n",
        "\n",
        "for i, row1 in df.iterrows():\n",
        "    for j, row2 in df.iterrows():\n",
        "        if i != j:\n",
        "            distance = haversine((row1['Latitude'], row1['Longitude']), (row2['Latitude'], row2['Longitude']))\n",
        "            if distance < 0.5:  #threshold\n",
        "                G.add_edge(row1['Postcode'], row2['Postcode'], weight=distance)\n",
        "\n",
        "# Function to create a Folium map\n",
        "def create_map(graph, start=None, goal=None, path=None):\n",
        "    # Set the initial location to the average of all postcodes\n",
        "    initial_location = [df['Latitude'].mean(), df['Longitude'].mean()]\n",
        "    map_folium = folium.Map(location=initial_location, zoom_start=14)\n",
        "\n",
        "    # Add markers for all postcodes\n",
        "    for node in graph.nodes():\n",
        "        folium.Marker(\n",
        "            location=[graph.nodes[node]['pos'][0], graph.nodes[node]['pos'][1]],\n",
        "            popup=node,\n",
        "            icon=folium.Icon(color='blue' if node not in (start, goal) else 'green')\n",
        "        ).add_to(map_folium)\n",
        "\n",
        "    # If a path is provided, draw the path\n",
        "    if path:\n",
        "        path_coordinates = [(graph.nodes[node]['pos'][0], graph.nodes[node]['pos'][1]) for node in path]\n",
        "        folium.PolyLine(path_coordinates, color='red', weight=5).add_to(map_folium)\n",
        "\n",
        "    return map_folium"
      ]
    },
    {
      "cell_type": "code",
      "execution_count": 4,
      "metadata": {
        "colab": {
          "base_uri": "https://localhost:8080/"
        },
        "id": "iNp-7F8kNO8c",
        "outputId": "9a7cf363-8631-4dae-cb4c-5574ff469ecb"
      },
      "outputs": [
        {
          "output_type": "stream",
          "name": "stdout",
          "text": [
            "Shortest path from E18 2LE to E18 1PA:\n",
            "E18 2LE -> E18 2HX -> E18 2HR -> E18 2EB -> E18 1PR -> E18 1PA\n",
            "Map saved as 'shortest_path_map.html'\n"
          ]
        }
      ],
      "source": [
        "# Define start and end postcodes\n",
        "#start_postcode = input(\"Enter the start postcode:\")\n",
        "#end_postcode = input(\"Enter the end postcode\")\n",
        "start_postcode = 'E18 2LE'\n",
        "end_postcode = 'E18 1PA'\n",
        "shortest_path = a_star(G, start_postcode, end_postcode)\n",
        "\n",
        "if shortest_path:\n",
        "    print(f\"Shortest path from {start_postcode} to {end_postcode}:\")\n",
        "    print(\" -> \".join(shortest_path))\n",
        "    map_folium = create_map(G, start=start_postcode, goal=end_postcode, path=shortest_path)\n",
        "    map_folium.save(\"shortest_path_map.html\")\n",
        "    print(\"Map saved as 'shortest_path_map.html'\")\n",
        "else:\n",
        "    print(f\"No path found between {start_postcode} and {end_postcode}.\")"
      ]
    }
  ],
  "metadata": {
    "kernelspec": {
      "display_name": "Python 3",
      "language": "python",
      "name": "python3"
    },
    "language_info": {
      "codemirror_mode": {
        "name": "ipython",
        "version": 3
      },
      "file_extension": ".py",
      "mimetype": "text/x-python",
      "name": "python",
      "nbconvert_exporter": "python",
      "pygments_lexer": "ipython3",
      "version": "3.11.4"
    },
    "colab": {
      "provenance": [],
      "include_colab_link": true
    }
  },
  "nbformat": 4,
  "nbformat_minor": 0
}